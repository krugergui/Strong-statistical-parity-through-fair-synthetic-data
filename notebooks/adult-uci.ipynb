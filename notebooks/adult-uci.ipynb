{
 "cells": [
  {
   "cell_type": "code",
   "execution_count": 1,
   "metadata": {},
   "outputs": [],
   "source": [
    "import pandas as pd\n",
    "import seaborn as sns\n",
    "import matplotlib.pyplot as plt\n",
    "import numpy as np\n",
    "from autogluon.tabular import TabularPredictor\n",
    "import fairness_metrics\n",
    "from data_loaders import AdultDataset\n",
    "\n",
    "label = \"income\"\n",
    "protected_feature = \"sex\""
   ]
  },
  {
   "cell_type": "markdown",
   "metadata": {},
   "source": [
    "# Adult dataset\n"
   ]
  },
  {
   "cell_type": "markdown",
   "metadata": {},
   "source": [
    "## Loading Data\n"
   ]
  },
  {
   "cell_type": "code",
   "execution_count": 2,
   "metadata": {},
   "outputs": [
    {
     "name": "stdout",
     "output_type": "stream",
     "text": [
      "(48842, 13)\n"
     ]
    },
    {
     "data": {
      "text/html": [
       "<div>\n",
       "<style scoped>\n",
       "    .dataframe tbody tr th:only-of-type {\n",
       "        vertical-align: middle;\n",
       "    }\n",
       "\n",
       "    .dataframe tbody tr th {\n",
       "        vertical-align: top;\n",
       "    }\n",
       "\n",
       "    .dataframe thead th {\n",
       "        text-align: right;\n",
       "    }\n",
       "</style>\n",
       "<table border=\"1\" class=\"dataframe\">\n",
       "  <thead>\n",
       "    <tr style=\"text-align: right;\">\n",
       "      <th></th>\n",
       "      <th>age</th>\n",
       "      <th>workclass</th>\n",
       "      <th>education</th>\n",
       "      <th>marital-status</th>\n",
       "      <th>occupation</th>\n",
       "      <th>relationship</th>\n",
       "      <th>race</th>\n",
       "      <th>sex</th>\n",
       "      <th>capital-gain</th>\n",
       "      <th>capital-loss</th>\n",
       "      <th>hours-per-week</th>\n",
       "      <th>native-country</th>\n",
       "      <th>income</th>\n",
       "    </tr>\n",
       "  </thead>\n",
       "  <tbody>\n",
       "    <tr>\n",
       "      <th>0</th>\n",
       "      <td>39</td>\n",
       "      <td>State-gov</td>\n",
       "      <td>Bachelors</td>\n",
       "      <td>Never-married</td>\n",
       "      <td>Adm-clerical</td>\n",
       "      <td>Not-in-family</td>\n",
       "      <td>White</td>\n",
       "      <td>Male</td>\n",
       "      <td>2174</td>\n",
       "      <td>0</td>\n",
       "      <td>40</td>\n",
       "      <td>United-States</td>\n",
       "      <td>&lt;=50K</td>\n",
       "    </tr>\n",
       "    <tr>\n",
       "      <th>1</th>\n",
       "      <td>50</td>\n",
       "      <td>Self-emp-not-inc</td>\n",
       "      <td>Bachelors</td>\n",
       "      <td>Married-civ-spouse</td>\n",
       "      <td>Exec-managerial</td>\n",
       "      <td>Husband</td>\n",
       "      <td>White</td>\n",
       "      <td>Male</td>\n",
       "      <td>0</td>\n",
       "      <td>0</td>\n",
       "      <td>13</td>\n",
       "      <td>United-States</td>\n",
       "      <td>&lt;=50K</td>\n",
       "    </tr>\n",
       "    <tr>\n",
       "      <th>2</th>\n",
       "      <td>38</td>\n",
       "      <td>Private</td>\n",
       "      <td>HS-grad</td>\n",
       "      <td>Divorced</td>\n",
       "      <td>Handlers-cleaners</td>\n",
       "      <td>Not-in-family</td>\n",
       "      <td>White</td>\n",
       "      <td>Male</td>\n",
       "      <td>0</td>\n",
       "      <td>0</td>\n",
       "      <td>40</td>\n",
       "      <td>United-States</td>\n",
       "      <td>&lt;=50K</td>\n",
       "    </tr>\n",
       "    <tr>\n",
       "      <th>3</th>\n",
       "      <td>53</td>\n",
       "      <td>Private</td>\n",
       "      <td>11th</td>\n",
       "      <td>Married-civ-spouse</td>\n",
       "      <td>Handlers-cleaners</td>\n",
       "      <td>Husband</td>\n",
       "      <td>Black</td>\n",
       "      <td>Male</td>\n",
       "      <td>0</td>\n",
       "      <td>0</td>\n",
       "      <td>40</td>\n",
       "      <td>United-States</td>\n",
       "      <td>&lt;=50K</td>\n",
       "    </tr>\n",
       "    <tr>\n",
       "      <th>4</th>\n",
       "      <td>28</td>\n",
       "      <td>Private</td>\n",
       "      <td>Bachelors</td>\n",
       "      <td>Married-civ-spouse</td>\n",
       "      <td>Prof-specialty</td>\n",
       "      <td>Wife</td>\n",
       "      <td>Black</td>\n",
       "      <td>Female</td>\n",
       "      <td>0</td>\n",
       "      <td>0</td>\n",
       "      <td>40</td>\n",
       "      <td>Cuba</td>\n",
       "      <td>&lt;=50K</td>\n",
       "    </tr>\n",
       "  </tbody>\n",
       "</table>\n",
       "</div>"
      ],
      "text/plain": [
       "   age         workclass  education      marital-status         occupation  \\\n",
       "0   39         State-gov  Bachelors       Never-married       Adm-clerical   \n",
       "1   50  Self-emp-not-inc  Bachelors  Married-civ-spouse    Exec-managerial   \n",
       "2   38           Private    HS-grad            Divorced  Handlers-cleaners   \n",
       "3   53           Private       11th  Married-civ-spouse  Handlers-cleaners   \n",
       "4   28           Private  Bachelors  Married-civ-spouse     Prof-specialty   \n",
       "\n",
       "    relationship   race     sex  capital-gain  capital-loss  hours-per-week  \\\n",
       "0  Not-in-family  White    Male          2174             0              40   \n",
       "1        Husband  White    Male             0             0              13   \n",
       "2  Not-in-family  White    Male             0             0              40   \n",
       "3        Husband  Black    Male             0             0              40   \n",
       "4           Wife  Black  Female             0             0              40   \n",
       "\n",
       "  native-country income  \n",
       "0  United-States  <=50K  \n",
       "1  United-States  <=50K  \n",
       "2  United-States  <=50K  \n",
       "3  United-States  <=50K  \n",
       "4           Cuba  <=50K  "
      ]
     },
     "execution_count": 2,
     "metadata": {},
     "output_type": "execute_result"
    }
   ],
   "source": [
    "adult_dataset = AdultDataset()\n",
    "adult_df = adult_dataset.load_data()\n",
    "print(adult_df.shape)\n",
    "adult_df.head()"
   ]
  },
  {
   "cell_type": "code",
   "execution_count": 3,
   "metadata": {},
   "outputs": [],
   "source": [
    "assert adult_df.isnull().sum().sum() == 0\n",
    "assert len(adult_df[\"income\"].unique()) == 2\n",
    "assert len(adult_df[\"sex\"].unique()) == 2"
   ]
  },
  {
   "cell_type": "code",
   "execution_count": 4,
   "metadata": {},
   "outputs": [
    {
     "name": "stdout",
     "output_type": "stream",
     "text": [
      "<class 'pandas.core.frame.DataFrame'>\n",
      "RangeIndex: 48842 entries, 0 to 48841\n",
      "Data columns (total 13 columns):\n",
      " #   Column          Non-Null Count  Dtype \n",
      "---  ------          --------------  ----- \n",
      " 0   age             48842 non-null  int64 \n",
      " 1   workclass       48842 non-null  object\n",
      " 2   education       48842 non-null  object\n",
      " 3   marital-status  48842 non-null  object\n",
      " 4   occupation      48842 non-null  object\n",
      " 5   relationship    48842 non-null  object\n",
      " 6   race            48842 non-null  object\n",
      " 7   sex             48842 non-null  object\n",
      " 8   capital-gain    48842 non-null  int64 \n",
      " 9   capital-loss    48842 non-null  int64 \n",
      " 10  hours-per-week  48842 non-null  int64 \n",
      " 11  native-country  48842 non-null  object\n",
      " 12  income          48842 non-null  object\n",
      "dtypes: int64(4), object(9)\n",
      "memory usage: 4.8+ MB\n"
     ]
    }
   ],
   "source": [
    "adult_df.info()"
   ]
  },
  {
   "cell_type": "markdown",
   "metadata": {},
   "source": [
    "## Comparing the data\n",
    "\n",
    "Here I'm making sure that the data is the same one that the paper is using.\n"
   ]
  },
  {
   "cell_type": "code",
   "execution_count": 5,
   "metadata": {},
   "outputs": [
    {
     "name": "stdout",
     "output_type": "stream",
     "text": [
      "Males with >50K income:    9918 - 30.4% of all males\n",
      "Females with >50K income:  1769 - 10.9% of all females\n"
     ]
    }
   ],
   "source": [
    "mask_50k = adult_df[\"income\"] == \">50K\"\n",
    "mask_male = adult_df[\"sex\"] == \"Male\"\n",
    "mask_female = adult_df[\"sex\"] == \"Female\"\n",
    "previleged_males = sum(mask_50k & mask_male)\n",
    "previleged_females = sum(mask_50k & mask_female)\n",
    "\n",
    "print(\n",
    "    f\"{'Males with >50K income: ':<26}\",\n",
    "    previleged_males,\n",
    "    \"-\",\n",
    "    f\"{previleged_males / sum(mask_male):.1%} of all males\",\n",
    ")\n",
    "print(\n",
    "    \"Females with >50K income: \",\n",
    "    previleged_females,\n",
    "    \"-\",\n",
    "    f\"{previleged_females / sum(mask_female):.1%} of all females\",\n",
    ")"
   ]
  },
  {
   "cell_type": "code",
   "execution_count": 6,
   "metadata": {},
   "outputs": [],
   "source": [
    "train_df, test_df = adult_dataset.get_train_test_data()\n",
    "\n",
    "assert len(train_df) + len(test_df) == len(adult_df)\n",
    "assert len(train_df) > 0\n",
    "assert len(test_df) > 0"
   ]
  },
  {
   "cell_type": "code",
   "execution_count": 16,
   "metadata": {},
   "outputs": [],
   "source": [
    "models_to_train = {\"CAT\": {}, \"GBM\": {}, \"RF\": {}, \"XGB\": {}}\n",
    "\n",
    "\n",
    "def train_predictor(data):\n",
    "    return TabularPredictor(\n",
    "        label=\"income\", eval_metric=\"roc_auc\", path=\"ag_models_original_adult_dataset\"\n",
    "    ).fit(\n",
    "        train_data=data,\n",
    "        presets=\"medium_quality\",\n",
    "        num_bag_folds=0,\n",
    "        num_bag_sets=0,\n",
    "        num_stack_levels=0,\n",
    "        hyperparameters=models_to_train,\n",
    "        verbosity=1,\n",
    "    )"
   ]
  },
  {
   "cell_type": "code",
   "execution_count": 17,
   "metadata": {},
   "outputs": [
    {
     "name": "stderr",
     "output_type": "stream",
     "text": [
      "AutoGluon infers your prediction problem is: 'binary' (because only two unique label-values observed).\n",
      "\tIf 'binary' is not the correct problem_type, please manually specify the problem_type parameter during predictor init (You may specify problem_type as one of: ['binary', 'multiclass', 'regression'])\n"
     ]
    }
   ],
   "source": [
    "predictor = train_predictor(train_df)"
   ]
  },
  {
   "cell_type": "code",
   "execution_count": 9,
   "metadata": {},
   "outputs": [
    {
     "name": "stdout",
     "output_type": "stream",
     "text": [
      "\n",
      "Model           ROC AUC  | SPD  \n",
      "LightGBM        0.925    | 0.187 ± 0.110\n",
      "RandomForest    0.896    | 0.190 ± 0.092\n",
      "CatBoost        0.926    | 0.188 ± 0.110\n",
      "XGBoost         0.927    | 0.188 ± 0.110\n"
     ]
    }
   ],
   "source": [
    "print(f'\\n{\"Model\":<15} {\"ROC AUC\":<8} | {\"SPD\":<5}')\n",
    "\n",
    "list_protected = [1 if p == \"Female\" else 0 for p in test_df[protected_feature]]\n",
    "for model in predictor.get_model_names():\n",
    "    if \"WeightedEnsemble\" in model:\n",
    "        continue\n",
    "\n",
    "    predictions = predictor.predict_proba(test_df, model=model)[\">50K\"]\n",
    "    model_dsp = np.empty(\n",
    "        101,\n",
    "    )\n",
    "\n",
    "    for i, threshold in enumerate(np.arange(0.0, 1.0, 0.01)):\n",
    "        model_dsp[i] = fairness_metrics.DSP(\n",
    "            [1 if p >= threshold else 0 for p in predictions], list_protected\n",
    "        )\n",
    "\n",
    "    format_mean_std = f\"{model_dsp.mean():.3f} ± {model_dsp.std():.3f}\"\n",
    "\n",
    "    print(\n",
    "        f'{model:<15} {predictor.evaluate(test_df, model=model, silent=True)[\"roc_auc\"]:<8.3f} | {format_mean_std}',\n",
    "    )"
   ]
  },
  {
   "cell_type": "markdown",
   "metadata": {},
   "source": [
    "### Inference\n",
    "\n",
    "All the base values are very close to the paper.\n"
   ]
  },
  {
   "cell_type": "markdown",
   "metadata": {},
   "source": [
    "## Benchmarking with the synthetic datasets\n",
    "\n",
    "The paper does not specify how many rows were generated, so I generated 10.000 rows.\n"
   ]
  },
  {
   "cell_type": "code",
   "execution_count": 10,
   "metadata": {},
   "outputs": [],
   "source": [
    "# Train dataframe that will be used to train the synthetic datasets\n",
    "train_df.to_csv(\"../Datasets/output/adult-train.csv\", index=False)"
   ]
  },
  {
   "cell_type": "markdown",
   "metadata": {},
   "source": [
    "## Loading the synthetic datasets\n",
    "\n",
    "This dataset was created using Mostly.ai and was augmented by inserting the probabilities for the positive target feature, as well as an interpolation for the unprivileged group to match the probabilities of the previlidges group.\n"
   ]
  },
  {
   "cell_type": "code",
   "execution_count": 14,
   "metadata": {},
   "outputs": [
    {
     "data": {
      "text/html": [
       "<div>\n",
       "<style scoped>\n",
       "    .dataframe tbody tr th:only-of-type {\n",
       "        vertical-align: middle;\n",
       "    }\n",
       "\n",
       "    .dataframe tbody tr th {\n",
       "        vertical-align: top;\n",
       "    }\n",
       "\n",
       "    .dataframe thead th {\n",
       "        text-align: right;\n",
       "    }\n",
       "</style>\n",
       "<table border=\"1\" class=\"dataframe\">\n",
       "  <thead>\n",
       "    <tr style=\"text-align: right;\">\n",
       "      <th></th>\n",
       "      <th>age</th>\n",
       "      <th>workclass</th>\n",
       "      <th>education</th>\n",
       "      <th>marital-status</th>\n",
       "      <th>occupation</th>\n",
       "      <th>relationship</th>\n",
       "      <th>race</th>\n",
       "      <th>sex</th>\n",
       "      <th>capital-gain</th>\n",
       "      <th>capital-loss</th>\n",
       "      <th>hours-per-week</th>\n",
       "      <th>native-country</th>\n",
       "      <th>income_synthetic</th>\n",
       "      <th>income_model_probability</th>\n",
       "      <th>bin</th>\n",
       "      <th>bin_centers</th>\n",
       "      <th>interpolated_probability</th>\n",
       "    </tr>\n",
       "  </thead>\n",
       "  <tbody>\n",
       "    <tr>\n",
       "      <th>0</th>\n",
       "      <td>51</td>\n",
       "      <td>Private</td>\n",
       "      <td>HS-grad</td>\n",
       "      <td>Married-civ-spouse</td>\n",
       "      <td>Exec-managerial</td>\n",
       "      <td>Husband</td>\n",
       "      <td>White</td>\n",
       "      <td>Male</td>\n",
       "      <td>0</td>\n",
       "      <td>0</td>\n",
       "      <td>50</td>\n",
       "      <td>United-States</td>\n",
       "      <td>1</td>\n",
       "      <td>0.869992</td>\n",
       "      <td>(0.8649923, 0.8699926]</td>\n",
       "      <td>0.867492</td>\n",
       "      <td>NaN</td>\n",
       "    </tr>\n",
       "    <tr>\n",
       "      <th>1</th>\n",
       "      <td>38</td>\n",
       "      <td>Private</td>\n",
       "      <td>HS-grad</td>\n",
       "      <td>Married-civ-spouse</td>\n",
       "      <td>Sales</td>\n",
       "      <td>Wife</td>\n",
       "      <td>White</td>\n",
       "      <td>Female</td>\n",
       "      <td>0</td>\n",
       "      <td>0</td>\n",
       "      <td>40</td>\n",
       "      <td>United-States</td>\n",
       "      <td>0</td>\n",
       "      <td>0.083617</td>\n",
       "      <td>(0.0833419, 0.0866748]</td>\n",
       "      <td>0.085008</td>\n",
       "      <td>0.810349</td>\n",
       "    </tr>\n",
       "    <tr>\n",
       "      <th>2</th>\n",
       "      <td>43</td>\n",
       "      <td>Private</td>\n",
       "      <td>Bachelors</td>\n",
       "      <td>Married-civ-spouse</td>\n",
       "      <td>Sales</td>\n",
       "      <td>Husband</td>\n",
       "      <td>Asian-Pac-Islander</td>\n",
       "      <td>Male</td>\n",
       "      <td>0</td>\n",
       "      <td>0</td>\n",
       "      <td>98</td>\n",
       "      <td>South</td>\n",
       "      <td>0</td>\n",
       "      <td>0.143339</td>\n",
       "      <td>(0.1400086, 0.1433407]</td>\n",
       "      <td>0.141675</td>\n",
       "      <td>NaN</td>\n",
       "    </tr>\n",
       "    <tr>\n",
       "      <th>3</th>\n",
       "      <td>47</td>\n",
       "      <td>Private</td>\n",
       "      <td>HS-grad</td>\n",
       "      <td>Married-civ-spouse</td>\n",
       "      <td>Farming-fishing</td>\n",
       "      <td>Husband</td>\n",
       "      <td>White</td>\n",
       "      <td>Male</td>\n",
       "      <td>0</td>\n",
       "      <td>0</td>\n",
       "      <td>45</td>\n",
       "      <td>Mexico</td>\n",
       "      <td>0</td>\n",
       "      <td>0.030005</td>\n",
       "      <td>(0.02893321, 0.03000648]</td>\n",
       "      <td>0.029470</td>\n",
       "      <td>NaN</td>\n",
       "    </tr>\n",
       "    <tr>\n",
       "      <th>4</th>\n",
       "      <td>41</td>\n",
       "      <td>Private</td>\n",
       "      <td>HS-grad</td>\n",
       "      <td>Married-civ-spouse</td>\n",
       "      <td>Machine-op-inspct</td>\n",
       "      <td>Husband</td>\n",
       "      <td>White</td>\n",
       "      <td>Male</td>\n",
       "      <td>0</td>\n",
       "      <td>0</td>\n",
       "      <td>40</td>\n",
       "      <td>United-States</td>\n",
       "      <td>1</td>\n",
       "      <td>0.345514</td>\n",
       "      <td>(0.3394803, 0.3460859]</td>\n",
       "      <td>0.342783</td>\n",
       "      <td>NaN</td>\n",
       "    </tr>\n",
       "  </tbody>\n",
       "</table>\n",
       "</div>"
      ],
      "text/plain": [
       "   age workclass  education      marital-status         occupation  \\\n",
       "0   51   Private    HS-grad  Married-civ-spouse    Exec-managerial   \n",
       "1   38   Private    HS-grad  Married-civ-spouse              Sales   \n",
       "2   43   Private  Bachelors  Married-civ-spouse              Sales   \n",
       "3   47   Private    HS-grad  Married-civ-spouse    Farming-fishing   \n",
       "4   41   Private    HS-grad  Married-civ-spouse  Machine-op-inspct   \n",
       "\n",
       "  relationship                race     sex  capital-gain  capital-loss  \\\n",
       "0      Husband               White    Male             0             0   \n",
       "1         Wife               White  Female             0             0   \n",
       "2      Husband  Asian-Pac-Islander    Male             0             0   \n",
       "3      Husband               White    Male             0             0   \n",
       "4      Husband               White    Male             0             0   \n",
       "\n",
       "   hours-per-week native-country  income_synthetic  income_model_probability  \\\n",
       "0              50  United-States                 1                  0.869992   \n",
       "1              40  United-States                 0                  0.083617   \n",
       "2              98          South                 0                  0.143339   \n",
       "3              45         Mexico                 0                  0.030005   \n",
       "4              40  United-States                 1                  0.345514   \n",
       "\n",
       "                        bin  bin_centers  interpolated_probability  \n",
       "0    (0.8649923, 0.8699926]     0.867492                       NaN  \n",
       "1    (0.0833419, 0.0866748]     0.085008                  0.810349  \n",
       "2    (0.1400086, 0.1433407]     0.141675                       NaN  \n",
       "3  (0.02893321, 0.03000648]     0.029470                       NaN  \n",
       "4    (0.3394803, 0.3460859]     0.342783                       NaN  "
      ]
     },
     "execution_count": 14,
     "metadata": {},
     "output_type": "execute_result"
    }
   ],
   "source": [
    "synthetic_df = pd.read_csv(\"../Datasets/output/adult-probabilistic.csv\")\n",
    "synthetic_df.head()"
   ]
  }
 ],
 "metadata": {
  "kernelspec": {
   "display_name": "Python 3 (ipykernel)",
   "language": "python",
   "name": "python3"
  },
  "language_info": {
   "codemirror_mode": {
    "name": "ipython",
    "version": 3
   },
   "file_extension": ".py",
   "mimetype": "text/x-python",
   "name": "python",
   "nbconvert_exporter": "python",
   "pygments_lexer": "ipython3",
   "version": "3.10.13"
  }
 },
 "nbformat": 4,
 "nbformat_minor": 2
}
